{
 "cells": [
  {
   "cell_type": "code",
   "execution_count": 15,
   "id": "a70a0409",
   "metadata": {},
   "outputs": [],
   "source": [
    "import pandas as pd"
   ]
  },
  {
   "cell_type": "code",
   "execution_count": 16,
   "id": "64e5fa42",
   "metadata": {},
   "outputs": [
    {
     "name": "stdout",
     "output_type": "stream",
     "text": [
      "Welcome to the Band name generator\n"
     ]
    }
   ],
   "source": [
    "#1. Create a greeting for your program.\n",
    "\n",
    "print(\"Welcome to the Band name generator\")"
   ]
  },
  {
   "cell_type": "code",
   "execution_count": 17,
   "id": "710fe8c2",
   "metadata": {},
   "outputs": [
    {
     "name": "stdout",
     "output_type": "stream",
     "text": [
      "What is the name of your city you grew up in\n",
      "Delhi\n"
     ]
    }
   ],
   "source": [
    "#2. Ask the user for the city that they grew up in.\n",
    "\n",
    "city = input(\"What is the name of your city you grew up in\\n\")"
   ]
  },
  {
   "cell_type": "code",
   "execution_count": 18,
   "id": "1a82adca",
   "metadata": {},
   "outputs": [
    {
     "name": "stdout",
     "output_type": "stream",
     "text": [
      "What is the name of your pet\n",
      "Pet\n"
     ]
    }
   ],
   "source": [
    "#3. Ask the user for the name of a pet.\n",
    "\n",
    "pet = input(\"What is the name of your pet\\n\")"
   ]
  },
  {
   "cell_type": "code",
   "execution_count": 19,
   "id": "afe57e88",
   "metadata": {},
   "outputs": [
    {
     "name": "stdout",
     "output_type": "stream",
     "text": [
      "Your Band name could be \n",
      " - Delhi Pet\n"
     ]
    }
   ],
   "source": [
    "#4. Combine the name of their city and pet and show them their band name.\n",
    "print(\"Your Band name could be \\n - \" + city + \" \" +pet)\n"
   ]
  },
  {
   "cell_type": "code",
   "execution_count": null,
   "id": "46a2ed7c",
   "metadata": {},
   "outputs": [],
   "source": []
  }
 ],
 "metadata": {
  "kernelspec": {
   "display_name": "Python 3 (ipykernel)",
   "language": "python",
   "name": "python3"
  },
  "language_info": {
   "codemirror_mode": {
    "name": "ipython",
    "version": 3
   },
   "file_extension": ".py",
   "mimetype": "text/x-python",
   "name": "python",
   "nbconvert_exporter": "python",
   "pygments_lexer": "ipython3",
   "version": "3.9.7"
  }
 },
 "nbformat": 4,
 "nbformat_minor": 5
}
