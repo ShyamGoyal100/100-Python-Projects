{
 "cells": [
  {
   "cell_type": "code",
   "execution_count": 73,
   "id": "5ab93542",
   "metadata": {},
   "outputs": [],
   "source": [
    "def name_format(f_name, l_name):\n",
    "    \"\"\"It takes the first name and last name and \n",
    "    returns the title case version of the name\"\"\"\n",
    "    if f_name == \"\" or l_name == \"\":\n",
    "        return \"You didnt provied valid input\"\n",
    "    formated_f_name = f_name.title()\n",
    "    formated_l_name = l_name.title()\n",
    "    return f\"Result : {formated_f_name} {formated_l_name}\"\n",
    "    "
   ]
  },
  {
   "cell_type": "code",
   "execution_count": 74,
   "id": "2a243c22",
   "metadata": {},
   "outputs": [
    {
     "data": {
      "text/plain": [
       "'Result : Shyam Goyal'"
      ]
     },
     "execution_count": 74,
     "metadata": {},
     "output_type": "execute_result"
    }
   ],
   "source": [
    "name_format('shyam','goyal')"
   ]
  },
  {
   "cell_type": "code",
   "execution_count": 75,
   "id": "68f96590",
   "metadata": {},
   "outputs": [
    {
     "name": "stdout",
     "output_type": "stream",
     "text": [
      "What is your first name\n",
      "shyam\n",
      "What is your last name\n",
      "goyal\n",
      "Result : Shyam Goyal\n"
     ]
    }
   ],
   "source": [
    "print(name_format(input(\"What is your first name\\n\"), input(\"What is your last name\\n\")))"
   ]
  },
  {
   "cell_type": "code",
   "execution_count": 67,
   "id": "4ea1f6c1",
   "metadata": {},
   "outputs": [],
   "source": [
    "#Exercise - number of day in a month for any year\n",
    "\n",
    "def leap_year(year):\n",
    "    if year%4 == 0:\n",
    "        if year%100 ==0:   \n",
    "            if year%400 == 0:\n",
    "                return True\n",
    "            else:\n",
    "                return False\n",
    "        else:\n",
    "            return True\n",
    "    else:\n",
    "        return False\n",
    "        \n",
    "def days_in_month(year, month):\n",
    "        month_days = [31,28,31,30,31,30,31,31,30,31,30,31]\n",
    "        if month == 2 and leap_year(year):\n",
    "            return 29\n",
    "        else:\n",
    "            return month_days[month-1]\n",
    "        "
   ]
  },
  {
   "cell_type": "code",
   "execution_count": 72,
   "id": "37a441f6",
   "metadata": {},
   "outputs": [
    {
     "name": "stdout",
     "output_type": "stream",
     "text": [
      "year\n",
      "2010\n",
      "Month\n",
      "2\n"
     ]
    },
    {
     "data": {
      "text/plain": [
       "28"
      ]
     },
     "execution_count": 72,
     "metadata": {},
     "output_type": "execute_result"
    }
   ],
   "source": [
    "year = int(input(\"year\\n\"))\n",
    "month = int(input(\"Month\\n\"))\n",
    "days_in_month(year,month)"
   ]
  },
  {
   "cell_type": "code",
   "execution_count": 114,
   "id": "c6f746a9",
   "metadata": {},
   "outputs": [
    {
     "name": "stdout",
     "output_type": "stream",
     "text": [
      "Enter the first number5\n",
      "+\n",
      "-\n",
      "*\n",
      "/\n",
      "Pick an operation from the above list+\n",
      "Enter the second number5\n",
      "5 + 5 = 10\n",
      "Pick another operation from the above list*\n",
      "What is your next number2\n",
      "10 * 2 = 20\n"
     ]
    }
   ],
   "source": [
    "## Combining Dictionaries and functions \n",
    "#Calculator\n",
    "\n",
    "def add(n1,n2):\n",
    "    return n1+n2\n",
    "\n",
    "def sub(n1,n2):\n",
    "    return n1-n2\n",
    "\n",
    "def multiply(n1,n2):\n",
    "    return n1*n2\n",
    "\n",
    "def divide(n1,n2):\n",
    "    return n1/n2\n",
    "\n",
    "\n",
    "operations = {\"+\":add,\n",
    "      \"-\":sub,\n",
    "      \"*\":multiply,\n",
    "      \"/\":divide}\n",
    "\n",
    "num1 = int(input(\"Enter the first number\"))\n",
    "\n",
    "for symbol in operations:\n",
    "    print(symbol)\n",
    "    \n",
    "\n",
    "\n",
    "operation_symbol = input(\"Pick an operation from the above list\")\n",
    "num2 = int(input(\"Enter the second number\"))\n",
    "answer = operations[operation_symbol](num1, num2)\n",
    "\n",
    "print(f\"{num1} {operation_symbol} {num2} = {answer}\")\n",
    "\n",
    "# adding another number\n",
    "operation_symbol = input(\"Pick another operation from the above list\")\n",
    "num3 = int(input(\"What is your next number\"))\n",
    "second_answer = operations[operation_symbol](answer, num3)\n",
    "print(f\"{answer} {operation_symbol} {num3} = {second_answer}\")\n"
   ]
  },
  {
   "cell_type": "code",
   "execution_count": 123,
   "id": "e4ad023e",
   "metadata": {},
   "outputs": [
    {
     "name": "stdout",
     "output_type": "stream",
     "text": [
      "Enter the first number5\n",
      "+\n",
      "-\n",
      "*\n",
      "/\n",
      "Pick an operation+\n",
      "Enter the next number5\n",
      "5 + 5 = 10\n",
      "Type 'Y' to continue calcualting with 10 or type 'N' to start a n ew calculation\n",
      "Y\n",
      "Pick an operation*\n",
      "Enter the next number2\n",
      "10 * 2 = 20\n",
      "Type 'Y' to continue calcualting with 20 or type 'N' to start a n ew calculation\n",
      "N\n",
      "thank you\n"
     ]
    },
    {
     "ename": "KeyboardInterrupt",
     "evalue": "Interrupted by user",
     "output_type": "error",
     "traceback": [
      "\u001b[0;31m---------------------------------------------------------------------------\u001b[0m",
      "\u001b[0;31mKeyboardInterrupt\u001b[0m                         Traceback (most recent call last)",
      "Input \u001b[0;32mIn [123]\u001b[0m, in \u001b[0;36m<cell line: 23>\u001b[0;34m()\u001b[0m\n\u001b[1;32m     20\u001b[0m             should_continue \u001b[38;5;241m=\u001b[39m \u001b[38;5;28;01mFalse\u001b[39;00m\n\u001b[1;32m     21\u001b[0m             calculation()\n\u001b[0;32m---> 23\u001b[0m \u001b[43mcalculation\u001b[49m\u001b[43m(\u001b[49m\u001b[43m)\u001b[49m\n",
      "Input \u001b[0;32mIn [123]\u001b[0m, in \u001b[0;36mcalculation\u001b[0;34m()\u001b[0m\n\u001b[1;32m     19\u001b[0m \u001b[38;5;28mprint\u001b[39m(\u001b[38;5;124m\"\u001b[39m\u001b[38;5;124mthank you\u001b[39m\u001b[38;5;124m\"\u001b[39m)\n\u001b[1;32m     20\u001b[0m should_continue \u001b[38;5;241m=\u001b[39m \u001b[38;5;28;01mFalse\u001b[39;00m\n\u001b[0;32m---> 21\u001b[0m \u001b[43mcalculation\u001b[49m\u001b[43m(\u001b[49m\u001b[43m)\u001b[49m\n",
      "Input \u001b[0;32mIn [123]\u001b[0m, in \u001b[0;36mcalculation\u001b[0;34m()\u001b[0m\n\u001b[1;32m      1\u001b[0m \u001b[38;5;28;01mdef\u001b[39;00m \u001b[38;5;21mcalculation\u001b[39m():\n\u001b[0;32m----> 2\u001b[0m     num1 \u001b[38;5;241m=\u001b[39m \u001b[38;5;28mint\u001b[39m(\u001b[38;5;28;43minput\u001b[39;49m\u001b[43m(\u001b[49m\u001b[38;5;124;43m\"\u001b[39;49m\u001b[38;5;124;43mEnter the first number\u001b[39;49m\u001b[38;5;124;43m\"\u001b[39;49m\u001b[43m)\u001b[49m)\n\u001b[1;32m      4\u001b[0m     \u001b[38;5;28;01mfor\u001b[39;00m symbol \u001b[38;5;129;01min\u001b[39;00m operations:\n\u001b[1;32m      5\u001b[0m         \u001b[38;5;28mprint\u001b[39m(symbol)\n",
      "File \u001b[0;32m~/opt/anaconda3/lib/python3.9/site-packages/ipykernel/kernelbase.py:1075\u001b[0m, in \u001b[0;36mKernel.raw_input\u001b[0;34m(self, prompt)\u001b[0m\n\u001b[1;32m   1071\u001b[0m \u001b[38;5;28;01mif\u001b[39;00m \u001b[38;5;129;01mnot\u001b[39;00m \u001b[38;5;28mself\u001b[39m\u001b[38;5;241m.\u001b[39m_allow_stdin:\n\u001b[1;32m   1072\u001b[0m     \u001b[38;5;28;01mraise\u001b[39;00m StdinNotImplementedError(\n\u001b[1;32m   1073\u001b[0m         \u001b[38;5;124m\"\u001b[39m\u001b[38;5;124mraw_input was called, but this frontend does not support input requests.\u001b[39m\u001b[38;5;124m\"\u001b[39m\n\u001b[1;32m   1074\u001b[0m     )\n\u001b[0;32m-> 1075\u001b[0m \u001b[38;5;28;01mreturn\u001b[39;00m \u001b[38;5;28;43mself\u001b[39;49m\u001b[38;5;241;43m.\u001b[39;49m\u001b[43m_input_request\u001b[49m\u001b[43m(\u001b[49m\n\u001b[1;32m   1076\u001b[0m \u001b[43m    \u001b[49m\u001b[38;5;28;43mstr\u001b[39;49m\u001b[43m(\u001b[49m\u001b[43mprompt\u001b[49m\u001b[43m)\u001b[49m\u001b[43m,\u001b[49m\n\u001b[1;32m   1077\u001b[0m \u001b[43m    \u001b[49m\u001b[38;5;28;43mself\u001b[39;49m\u001b[38;5;241;43m.\u001b[39;49m\u001b[43m_parent_ident\u001b[49m\u001b[43m[\u001b[49m\u001b[38;5;124;43m\"\u001b[39;49m\u001b[38;5;124;43mshell\u001b[39;49m\u001b[38;5;124;43m\"\u001b[39;49m\u001b[43m]\u001b[49m\u001b[43m,\u001b[49m\n\u001b[1;32m   1078\u001b[0m \u001b[43m    \u001b[49m\u001b[38;5;28;43mself\u001b[39;49m\u001b[38;5;241;43m.\u001b[39;49m\u001b[43mget_parent\u001b[49m\u001b[43m(\u001b[49m\u001b[38;5;124;43m\"\u001b[39;49m\u001b[38;5;124;43mshell\u001b[39;49m\u001b[38;5;124;43m\"\u001b[39;49m\u001b[43m)\u001b[49m\u001b[43m,\u001b[49m\n\u001b[1;32m   1079\u001b[0m \u001b[43m    \u001b[49m\u001b[43mpassword\u001b[49m\u001b[38;5;241;43m=\u001b[39;49m\u001b[38;5;28;43;01mFalse\u001b[39;49;00m\u001b[43m,\u001b[49m\n\u001b[1;32m   1080\u001b[0m \u001b[43m\u001b[49m\u001b[43m)\u001b[49m\n",
      "File \u001b[0;32m~/opt/anaconda3/lib/python3.9/site-packages/ipykernel/kernelbase.py:1120\u001b[0m, in \u001b[0;36mKernel._input_request\u001b[0;34m(self, prompt, ident, parent, password)\u001b[0m\n\u001b[1;32m   1117\u001b[0m             \u001b[38;5;28;01mbreak\u001b[39;00m\n\u001b[1;32m   1118\u001b[0m \u001b[38;5;28;01mexcept\u001b[39;00m \u001b[38;5;167;01mKeyboardInterrupt\u001b[39;00m:\n\u001b[1;32m   1119\u001b[0m     \u001b[38;5;66;03m# re-raise KeyboardInterrupt, to truncate traceback\u001b[39;00m\n\u001b[0;32m-> 1120\u001b[0m     \u001b[38;5;28;01mraise\u001b[39;00m \u001b[38;5;167;01mKeyboardInterrupt\u001b[39;00m(\u001b[38;5;124m\"\u001b[39m\u001b[38;5;124mInterrupted by user\u001b[39m\u001b[38;5;124m\"\u001b[39m) \u001b[38;5;28;01mfrom\u001b[39;00m \u001b[38;5;28mNone\u001b[39m\n\u001b[1;32m   1121\u001b[0m \u001b[38;5;28;01mexcept\u001b[39;00m \u001b[38;5;167;01mException\u001b[39;00m:\n\u001b[1;32m   1122\u001b[0m     \u001b[38;5;28mself\u001b[39m\u001b[38;5;241m.\u001b[39mlog\u001b[38;5;241m.\u001b[39mwarning(\u001b[38;5;124m\"\u001b[39m\u001b[38;5;124mInvalid Message:\u001b[39m\u001b[38;5;124m\"\u001b[39m, exc_info\u001b[38;5;241m=\u001b[39m\u001b[38;5;28;01mTrue\u001b[39;00m)\n",
      "\u001b[0;31mKeyboardInterrupt\u001b[0m: Interrupted by user"
     ]
    }
   ],
   "source": [
    "\n",
    "def calculation():\n",
    "    num1 = int(input(\"Enter the first number\"))\n",
    "\n",
    "    for symbol in operations:\n",
    "        print(symbol)\n",
    "\n",
    "    should_continue = True\n",
    "\n",
    "    while should_continue:\n",
    "        operation_symbol = input(\"Pick an operation\")\n",
    "        num2 = int(input(\"Enter the next number\"))\n",
    "        answer = operations[operation_symbol](num1, num2)\n",
    "\n",
    "        print(f\"{num1} {operation_symbol} {num2} = {answer}\")\n",
    "\n",
    "        if input(f\"Type 'Y' to continue calcualting with {answer} or type 'N' to start a n ew calculation\\n\") == \"Y\":\n",
    "            num1 = answer\n",
    "        else:\n",
    "            print(\"thank you\")\n",
    "            should_continue = False\n",
    "            calculation()\n",
    "\n",
    "calculation()"
   ]
  },
  {
   "cell_type": "code",
   "execution_count": null,
   "id": "78e9ae1a",
   "metadata": {},
   "outputs": [],
   "source": [
    "# It will be an infanite loop if we use function under a function\n",
    "# def calcualtor():\n",
    "#     print(\"check\")\n",
    "#     calculator()"
   ]
  }
 ],
 "metadata": {
  "kernelspec": {
   "display_name": "Python 3 (ipykernel)",
   "language": "python",
   "name": "python3"
  },
  "language_info": {
   "codemirror_mode": {
    "name": "ipython",
    "version": 3
   },
   "file_extension": ".py",
   "mimetype": "text/x-python",
   "name": "python",
   "nbconvert_exporter": "python",
   "pygments_lexer": "ipython3",
   "version": "3.9.7"
  }
 },
 "nbformat": 4,
 "nbformat_minor": 5
}
