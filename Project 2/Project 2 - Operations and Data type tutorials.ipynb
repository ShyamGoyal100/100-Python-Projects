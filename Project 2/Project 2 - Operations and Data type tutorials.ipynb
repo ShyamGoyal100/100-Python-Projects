{
 "cells": [
  {
   "cell_type": "code",
   "execution_count": 51,
   "id": "a320856b",
   "metadata": {},
   "outputs": [],
   "source": [
    "import pandas as pd"
   ]
  },
  {
   "cell_type": "code",
   "execution_count": null,
   "id": "6b211a94",
   "metadata": {},
   "outputs": [],
   "source": [
    "#Data Types\n",
    "# - String = \"Hello\"\n",
    "# - Integer = 123456\n",
    "# - Flaot - 3.14\n",
    "# - Boolean - True, False\n",
    "# - we cna conly concatenate str to str"
   ]
  },
  {
   "cell_type": "code",
   "execution_count": 43,
   "id": "3a3007cf",
   "metadata": {},
   "outputs": [],
   "source": [
    "# Mathematical Operations in Python\n",
    "# - Addition - \"+\"\n",
    "# - Subtraction - \"-\"\n",
    "# - Multiplication - \"*\"\n",
    "# - Division - \"/\"\n",
    "# - Modulus - \"%\"\n",
    "# - Exponent - \"**\"\n",
    "# - Floor Division - \"//\"\n",
    "\n",
    "# Opearions Priority :\n",
    "# PEMDASLR\n",
    "# - Parantheses\n",
    "# - Exponents\n",
    "# - Multiplication ,Division\n",
    "# - Addition, Substraction"
   ]
  },
  {
   "cell_type": "code",
   "execution_count": 71,
   "id": "8cd69e12",
   "metadata": {},
   "outputs": [
    {
     "name": "stdout",
     "output_type": "stream",
     "text": [
      "5.11\n",
      "80\n",
      "3.06\n"
     ]
    }
   ],
   "source": [
    "# BMI Calculator:\n",
    "# 1st input : enter height in meters \n",
    "height = input()\n",
    "# 2nd input : enter weight in kilogram\n",
    "weight = input()\n",
    "\n",
    "height_int = float(height)\n",
    "weight_int = int(weight)\n",
    "    \n",
    "BMI = weight_int/(height_int*height_int)\n",
    "print(round(BMI,2))"
   ]
  },
  {
   "cell_type": "code",
   "execution_count": 77,
   "id": "4c1ad3ce",
   "metadata": {},
   "outputs": [
    {
     "name": "stdout",
     "output_type": "stream",
     "text": [
      "What is your current age in years\n",
      "30\n",
      "Your have 3120 weeks left\n"
     ]
    }
   ],
   "source": [
    "# Your life in weeks \n",
    "\n",
    "current_age = input(\"What is your current age in years\\n\")\n",
    "lifespan = 90\n",
    "\n",
    "years = lifespan - int(current_age)\n",
    "weeks = years*52\n",
    "\n",
    "print(f\"Your have {weeks} weeks left\")"
   ]
  },
  {
   "cell_type": "code",
   "execution_count": null,
   "id": "dfbc6d69",
   "metadata": {},
   "outputs": [],
   "source": []
  },
  {
   "cell_type": "code",
   "execution_count": null,
   "id": "f1dfdf8a",
   "metadata": {},
   "outputs": [],
   "source": []
  }
 ],
 "metadata": {
  "kernelspec": {
   "display_name": "Python 3 (ipykernel)",
   "language": "python",
   "name": "python3"
  },
  "language_info": {
   "codemirror_mode": {
    "name": "ipython",
    "version": 3
   },
   "file_extension": ".py",
   "mimetype": "text/x-python",
   "name": "python",
   "nbconvert_exporter": "python",
   "pygments_lexer": "ipython3",
   "version": "3.9.7"
  }
 },
 "nbformat": 4,
 "nbformat_minor": 5
}
