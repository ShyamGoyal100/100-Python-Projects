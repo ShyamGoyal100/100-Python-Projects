{
 "cells": [
  {
   "cell_type": "markdown",
   "id": "741d3354",
   "metadata": {},
   "source": [
    "# Tip Calculator"
   ]
  },
  {
   "cell_type": "code",
   "execution_count": 33,
   "id": "5790d4e9",
   "metadata": {},
   "outputs": [
    {
     "name": "stdout",
     "output_type": "stream",
     "text": [
      "Welcome to tip Calculator\n"
     ]
    }
   ],
   "source": [
    "print(\"Welcome to tip Calculator\")"
   ]
  },
  {
   "cell_type": "code",
   "execution_count": 42,
   "id": "824b98c8",
   "metadata": {},
   "outputs": [
    {
     "name": "stdout",
     "output_type": "stream",
     "text": [
      "What was the total bill?\n",
      "$123\n"
     ]
    }
   ],
   "source": [
    "bill = float(input(\"What was the total bill?\\n$\"))"
   ]
  },
  {
   "cell_type": "code",
   "execution_count": 44,
   "id": "9f1925fc",
   "metadata": {},
   "outputs": [
    {
     "name": "stdout",
     "output_type": "stream",
     "text": [
      "How much tip would you like to give?  10, 12 or 15\n",
      "12\n"
     ]
    }
   ],
   "source": [
    "tip = int(input(\"How much tip would you like to give?  10, 12 or 15\\n\"))"
   ]
  },
  {
   "cell_type": "code",
   "execution_count": 45,
   "id": "88148505",
   "metadata": {},
   "outputs": [
    {
     "name": "stdout",
     "output_type": "stream",
     "text": [
      "How many people to split the bill ?4\n"
     ]
    }
   ],
   "source": [
    "people = int(input(\"How many people to split the bill ?\"))"
   ]
  },
  {
   "cell_type": "code",
   "execution_count": 47,
   "id": "73571445",
   "metadata": {},
   "outputs": [
    {
     "name": "stdout",
     "output_type": "stream",
     "text": [
      "Bill per person is: $34.44\n"
     ]
    }
   ],
   "source": [
    "Bill_per_head = round((tip/100 * bill + bill)/people,2)\n",
    "print(f\"Bill per person is: ${Bill_per_head}\")"
   ]
  }
 ],
 "metadata": {
  "kernelspec": {
   "display_name": "Python 3 (ipykernel)",
   "language": "python",
   "name": "python3"
  },
  "language_info": {
   "codemirror_mode": {
    "name": "ipython",
    "version": 3
   },
   "file_extension": ".py",
   "mimetype": "text/x-python",
   "name": "python",
   "nbconvert_exporter": "python",
   "pygments_lexer": "ipython3",
   "version": "3.9.7"
  }
 },
 "nbformat": 4,
 "nbformat_minor": 5
}
