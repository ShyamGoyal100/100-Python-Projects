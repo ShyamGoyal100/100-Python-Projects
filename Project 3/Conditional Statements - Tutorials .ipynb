{
 "cells": [
  {
   "cell_type": "markdown",
   "id": "0d653d17",
   "metadata": {},
   "source": [
    "## Comparision Operator:\n",
    "\n",
    "- Greater Than - > \n",
    "- Less Than - <\n",
    "- Greater Than Equal to - >=\n",
    "- Less than Equal to - <=\n",
    "- Not Equal to - !="
   ]
  },
  {
   "cell_type": "code",
   "execution_count": 4,
   "id": "67463fe7",
   "metadata": {},
   "outputs": [
    {
     "name": "stdout",
     "output_type": "stream",
     "text": [
      "What is your height(in cm)\n",
      "23\n",
      "Sorry, you have to grow taller\n"
     ]
    }
   ],
   "source": [
    "#Roller Coster Ticketing system\n",
    "# Basic If/Elif/else statement\n",
    "\n",
    "height  = int(input('What is your height(in cm)\\n'))\n",
    "\n",
    "if height >= 120:\n",
    "    age = int(input(\"what is your age\"))\n",
    "    if age < 12:\n",
    "        print(\"Its $5\")\n",
    "    elif age <=18:\n",
    "        print(\"Its $7\")\n",
    "    else:\n",
    "        print(\"Its $12\")\n",
    "else:\n",
    "    print(\"Sorry, you have to grow taller\")\n",
    "        "
   ]
  },
  {
   "cell_type": "code",
   "execution_count": 1,
   "id": "939a674c",
   "metadata": {},
   "outputs": [
    {
     "name": "stdout",
     "output_type": "stream",
     "text": [
      "Enter your height in meters1.7\n",
      "Enter your weight in Kg's200\n",
      "Your BMI is 69.2, you are clinically obese\n"
     ]
    }
   ],
   "source": [
    "# BMI 2.0\n",
    "\n",
    "height = float(input(\"Enter your height in meters\"))\n",
    "\n",
    "Weight = int(input(\"Enter your weight in Kg's\"))\n",
    "\n",
    "BMI = round(Weight/(height* height),2)\n",
    "BMI\n",
    "\n",
    "if BMI < 18.5:\n",
    "    print(f\"Your BMI is {BMI}, you are Under weight\")\n",
    "elif BMI < 25:\n",
    "    print(f\"Your BMI is {BMI}, you have a normal weight\")\n",
    "elif BMI < 30:\n",
    "    print(f\"Your BMI is {BMI}, you are slightly overweight\")\n",
    "elif BMI < 35:\n",
    "    print(f\"Your BMI is {BMI}, you are obese\")\n",
    "else: \n",
    "    print(f\"Your BMI is {BMI}, you are clinically obese\")\n"
   ]
  },
  {
   "cell_type": "code",
   "execution_count": null,
   "id": "96f2cf2f",
   "metadata": {},
   "outputs": [],
   "source": [
    "# Leap Year\n",
    "# Nested If/else statement \n",
    "\n",
    "year = int(input(\"Enter the year you want to check\"))\n",
    "\n",
    "if year%4 == 0:\n",
    "    if year%100 ==0:   \n",
    "        if year%400 == 0:\n",
    "            print(\"Its a leap year\")\n",
    "        else:\n",
    "            print(\"Its not a leap Year\")\n",
    "    else:\n",
    "        print(\"Its a leap year\")\n",
    "else:\n",
    "    print(\"Its not a leap year\")"
   ]
  },
  {
   "cell_type": "code",
   "execution_count": 18,
   "id": "a5fc69cf",
   "metadata": {},
   "outputs": [
    {
     "name": "stdout",
     "output_type": "stream",
     "text": [
      "What is your height(in cm)\n",
      "156\n",
      "what is your age34\n",
      "Adult tickets are $12\n",
      "Do you want a photo, press Y or NY\n",
      "You total bill is $15\n"
     ]
    }
   ],
   "source": [
    "#Roller Coster Ticketing system\n",
    "# Multiple If/else statement\n",
    "\n",
    "height  = int(input('What is your height(in cm)\\n'))\n",
    "bill = 0\n",
    "\n",
    "if height >= 120:\n",
    "    age = int(input(\"what is your age\"))\n",
    "    if age < 12:\n",
    "        bill = 5;\n",
    "        print(\"Child ticket is $5\")\n",
    "    elif age <=18:\n",
    "        bill = 7;\n",
    "        print(\"Youth ticket are $7\")\n",
    "    elif age >=45 and age <= 55:\n",
    "        print(\"Congratulaitons, you have a free ticket\")\n",
    "    else:\n",
    "        bill = 12\n",
    "        print(\"Adult tickets are $12\")\n",
    "        \n",
    "    photo = input(\"Do you want a photo, press Y or N\")\n",
    "    if photo == 'Y':\n",
    "        bill += 3;\n",
    "    print(f\"You total bill is ${bill}\")\n",
    "else:\n",
    "    print(\"Sorry, you have to grow taller\")\n",
    "        "
   ]
  },
  {
   "cell_type": "code",
   "execution_count": 14,
   "id": "74d690d1",
   "metadata": {},
   "outputs": [
    {
     "name": "stdout",
     "output_type": "stream",
     "text": [
      "Thank you for choosing this Pizza delivery\n",
      "Whats the size of the pizza: S, M, or L\n",
      "S\n",
      "Do you wan to add pepperoni - Y or N\n",
      "Y\n",
      "Do you want extra cheese - Y or N\n",
      "N\n",
      "Your final bill is 17\n"
     ]
    }
   ],
   "source": [
    "#Automatic Pizza Order program\n",
    "\n",
    "print(\"Thank you for choosing this Pizza delivery\")\n",
    "\n",
    "size = input(\"Whats the size of the pizza: S, M, or L\\n\")\n",
    "add_pepp = input(\"Do you wan to add pepperoni - Y or N\\n\")\n",
    "extra_cheese = input(\"Do you want extra cheese - Y or N\\n\")\n",
    "bill = 0\n",
    "if size == 'S':\n",
    "    bill += 15;\n",
    "    if add_pepp == 'Y':\n",
    "        bill += 2;\n",
    "elif size == 'M':\n",
    "    bill+= 20;\n",
    "    if add_pepp == 'Y':\n",
    "        bill += 3\n",
    "else:\n",
    "    bill += 25;\n",
    "    if add_pepp == 'Y':\n",
    "        bill += 3\n",
    "if extra_cheese == 'Y':\n",
    "    bill+= 1\n",
    "    \n",
    "print(f\"Your final bill is {bill}\")\n"
   ]
  },
  {
   "cell_type": "markdown",
   "id": "53f4c60b",
   "metadata": {},
   "source": [
    "## Logical Operators:\n",
    "- And\n",
    "- Or\n",
    "- Not"
   ]
  },
  {
   "cell_type": "code",
   "execution_count": 49,
   "id": "b28939db",
   "metadata": {},
   "outputs": [
    {
     "name": "stdout",
     "output_type": "stream",
     "text": [
      "Welcome to the love calculator\n",
      "\n",
      "Enter the first name\n",
      "David Beckham\n",
      "Enter the second name\n",
      "Victoria Beckham\n",
      "Your score is 45, you go like alright together.\n"
     ]
    }
   ],
   "source": [
    "# Love Calculator\n",
    "\n",
    "print(\"Welcome to the love calculator\\n\")\n",
    "name1 = input(\"Enter the first name\\n\")\n",
    "name2 = input(\"Enter the second name\\n\")\n",
    "name_com = (name1 +name2).lower()\n",
    "name_com\n",
    "\n",
    "t = name_com.count('t')\n",
    "r = name_com.count('r')\n",
    "u = name_com.count('u')\n",
    "e = name_com.count('e')\n",
    "first = str(t+r+u+e)\n",
    "\n",
    "l = name_com.count('l')\n",
    "o = name_com.count('o')\n",
    "v = name_com.count('v')\n",
    "e = name_com.count('e')\n",
    "second = str(l+o+v+e)\n",
    "\n",
    "total = int(first+second)\n",
    "total\n",
    "\n",
    "if (total < 10) or (total > 90):\n",
    "    print(f\"Your score is {total}, you go like coke and mintos.\")\n",
    "elif (total >40) and (total <50):\n",
    "    print(f\"Your score is {total}, you go like alright together.\")\n",
    "else:\n",
    "    print(f\"Your score is {total}.\")\n",
    "\n",
    "# print(f\"Your love score is {first}{second}\")\n"
   ]
  },
  {
   "cell_type": "code",
   "execution_count": null,
   "id": "a468e9eb",
   "metadata": {},
   "outputs": [],
   "source": []
  }
 ],
 "metadata": {
  "kernelspec": {
   "display_name": "Python 3 (ipykernel)",
   "language": "python",
   "name": "python3"
  },
  "language_info": {
   "codemirror_mode": {
    "name": "ipython",
    "version": 3
   },
   "file_extension": ".py",
   "mimetype": "text/x-python",
   "name": "python",
   "nbconvert_exporter": "python",
   "pygments_lexer": "ipython3",
   "version": "3.9.7"
  }
 },
 "nbformat": 4,
 "nbformat_minor": 5
}
