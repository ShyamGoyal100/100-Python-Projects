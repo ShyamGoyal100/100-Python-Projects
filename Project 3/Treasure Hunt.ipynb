{
 "cells": [
  {
   "cell_type": "markdown",
   "id": "fc4caac0",
   "metadata": {},
   "source": [
    "# Tresure Hunt"
   ]
  },
  {
   "cell_type": "code",
   "execution_count": 41,
   "id": "42f62aa1",
   "metadata": {},
   "outputs": [
    {
     "name": "stdout",
     "output_type": "stream",
     "text": [
      "Welcome to the tresure Island\n",
      "Your mission is to find the tresure\n",
      "You are at a cross road, where so you want to go 'Left' or 'Right'\n",
      "left\n",
      "You have come to a lake, There is an Island in the middle of the lakh,\n",
      "                Type 'Wait' to wait for a boat,Type 'Swim' to swim overwait\n",
      "You arrive at the island unharmed, There is a house with 3 doors, \n",
      "                            One red, One yellow, an done blue, Which colour do you choosered\n",
      "You got into the fire room, Game Over.\n"
     ]
    }
   ],
   "source": [
    "print(\"Welcome to the tresure Island\")\n",
    "print(\"Your mission is to find the tresure\")\n",
    "\n",
    "choice1 = input(\"You are at a cross road, where so you want to go 'Left' or 'Right'\\n\").lower()\n",
    "choice1\n",
    "\n",
    "if choice1 == \"left\":\n",
    "    choice2 = input(\"\"\"You have come to a lake, There is an Island in the middle of the lakh,\n",
    "                Type 'Wait' to wait for a boat,Type 'Swim' to swim over\"\"\").lower()\n",
    "    if choice2 == \"wait\":\n",
    "        choice3 = input(\"\"\"You arrive at the island unharmed, There is a house with 3 doors, \n",
    "                            One red, One yellow, an done blue, Which colour do you choose\"\"\").lower()\n",
    "        if choice3 == \"red\":\n",
    "            print(\"You got into the fire room, Game Over.\")\n",
    "        elif choice3 == 'yellow':\n",
    "            print(\"You got the Tresure, You won.\")\n",
    "        elif choice3 == 'blue':\n",
    "            print(\"You got into the beast room, Game Over.\")\n",
    "        else:\n",
    "            print(\"Your entered some other door, Game Over\")\n",
    "    else:\n",
    "        print(\"I got attacked by shark, Game Over\")\n",
    "else:\n",
    "    print(\"You fell into a hole, Game Over\");"
   ]
  },
  {
   "cell_type": "code",
   "execution_count": 43,
   "id": "32afede3",
   "metadata": {},
   "outputs": [
    {
     "name": "stdout",
     "output_type": "stream",
     "text": [
      "\n",
      "\n",
      "The Adventures of Americaman\n",
      "\n",
      "    ,,,,,,    .-----------------------.\n",
      "   |@    @|  (  HIYA! I'M AMERICAMAN!  )\n",
      "   |  ()  |  /'-----------------------'\n",
      "   `(//\\)'\n",
      "     \\  /\n",
      "      )(\n",
      "   .-/  \\-.\n",
      "  / / /\\ \\  ( ( /--\\ ) )\n",
      "  \\_\\____/_/\n",
      "   )_\\//_(\n",
      "    ( () )\n",
      " .-._\\||/_.-.\n",
      "(___._)(_.___)\n",
      "\n",
      "              .------------------------------------------.\n",
      "    ,,,,,,   (  I EAT MY BURGERS EVERY DAY, JUST LIKE MY  )\n",
      "   |u    u|  /'---.  OLD MOTHER TOLD ME, SO I GROW UP  .-'\n",
      "   |_ () _|   .--. `-.   TO BE BIG AND STRONG!  ____.-'\n",
      "   (///.\\)  {_}__}   `._____________________.-'\n",
      "    `.  .'   (__//\n",
      "      )(      //\n",
      "   .-/  \\----'/\n",
      "  / / /\\ \\%  /\n",
      " ( ( /--\\ \\-'\n",
      "  \\_\\______)\n",
      "   )_\\/%.'\n",
      "    ( () )\n",
      " .-._\\||/_.-.\n",
      "(___._)(_.___)\n",
      "\n",
      "\n"
     ]
    }
   ],
   "source": [
    "# You can use the below link to generate picture what you like\n",
    "# https://ascii.co.uk/art\n",
    "\n",
    "print(\"\"\"\n",
    "\n",
    "The Adventures of Americaman\n",
    "\n",
    "    ,,,,,,    .-----------------------.\n",
    "   |@    @|  (  HIYA! I'M AMERICAMAN!  )\n",
    "   |  ()  |  /'-----------------------'\n",
    "   `(//\\\\)'\n",
    "     \\  /\n",
    "      )(\n",
    "   .-/  \\-.\n",
    "  / / /\\ \\ \\\n",
    " ( ( /--\\ ) )\n",
    "  \\_\\____/_/\n",
    "   )_\\\\//_(\n",
    "    ( () )\n",
    " .-._\\||/_.-.\n",
    "(___._)(_.___)\n",
    "\n",
    "              .------------------------------------------.\n",
    "    ,,,,,,   (  I EAT MY BURGERS EVERY DAY, JUST LIKE MY  )\n",
    "   |u    u|  /'---.  OLD MOTHER TOLD ME, SO I GROW UP  .-'\n",
    "   |_ () _|   .--. `-.   TO BE BIG AND STRONG!  ____.-'\n",
    "   (///.\\\\)  {_}__}   `._____________________.-'\n",
    "    `.  .'   (__//\n",
    "      )(      //\n",
    "   .-/  \\----'/\n",
    "  / / /\\ \\%  /\n",
    " ( ( /--\\ \\-'\n",
    "  \\_\\______)\n",
    "   )_\\\\/%.'\n",
    "    ( () )\n",
    " .-._\\||/_.-.\n",
    "(___._)(_.___)\n",
    "\n",
    "\"\"\")"
   ]
  }
 ],
 "metadata": {
  "kernelspec": {
   "display_name": "Python 3 (ipykernel)",
   "language": "python",
   "name": "python3"
  },
  "language_info": {
   "codemirror_mode": {
    "name": "ipython",
    "version": 3
   },
   "file_extension": ".py",
   "mimetype": "text/x-python",
   "name": "python",
   "nbconvert_exporter": "python",
   "pygments_lexer": "ipython3",
   "version": "3.9.7"
  }
 },
 "nbformat": 4,
 "nbformat_minor": 5
}
