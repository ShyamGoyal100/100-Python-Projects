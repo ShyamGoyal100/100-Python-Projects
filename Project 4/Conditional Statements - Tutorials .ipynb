{
 "cells": [
  {
   "cell_type": "code",
   "execution_count": null,
   "id": "43eeeb63",
   "metadata": {},
   "outputs": [],
   "source": []
  },
  {
   "cell_type": "markdown",
   "id": "0d653d17",
   "metadata": {},
   "source": [
    "## Comparision Operator:\n",
    "\n",
    "- Greater Than - > \n",
    "- Less Than - <\n",
    "- Greater Than Equal to - >=\n",
    "- Less than Equal to - <=\n",
    "- Not Equal to - !="
   ]
  },
  {
   "cell_type": "code",
   "execution_count": null,
   "id": "1793254b",
   "metadata": {},
   "outputs": [],
   "source": [
    "Conditional Operators\n",
    "\n",
    "- If Else condition\n",
    "- Nested If statement and Elif Statement \n",
    "- "
   ]
  },
  {
   "cell_type": "code",
   "execution_count": 4,
   "id": "67463fe7",
   "metadata": {},
   "outputs": [
    {
     "name": "stdout",
     "output_type": "stream",
     "text": [
      "What is your height(in cm)\n",
      "23\n",
      "Sorry, you have to grow taller\n"
     ]
    }
   ],
   "source": [
    "#Roller Coster Ticketing system\n",
    "# Basic If/Elif/else statement\n",
    "\n",
    "height  = int(input('What is your height(in cm)\\n'))\n",
    "\n",
    "if height >= 120:\n",
    "    age = int(input(\"what is your age\"))\n",
    "    if age < 12:\n",
    "        print(\"Its $5\")\n",
    "    elif age <=18:\n",
    "        print(\"Its $7\")\n",
    "    else:\n",
    "        print(\"Its $12\")\n",
    "else:\n",
    "    print(\"Sorry, you have to grow taller\")\n",
    "        "
   ]
  },
  {
   "cell_type": "code",
   "execution_count": 1,
   "id": "939a674c",
   "metadata": {},
   "outputs": [
    {
     "name": "stdout",
     "output_type": "stream",
     "text": [
      "Enter your height in meters1.7\n",
      "Enter your weight in Kg's200\n",
      "Your BMI is 69.2, you are clinically obese\n"
     ]
    }
   ],
   "source": [
    "# BMI 2.0\n",
    "\n",
    "height = float(input(\"Enter your height in meters\"))\n",
    "\n",
    "Weight = int(input(\"Enter your weight in Kg's\"))\n",
    "\n",
    "BMI = round(Weight/(height* height),2)\n",
    "BMI\n",
    "\n",
    "if BMI < 18.5:\n",
    "    print(f\"Your BMI is {BMI}, you are Under weight\")\n",
    "elif BMI < 25:\n",
    "    print(f\"Your BMI is {BMI}, you have a normal weight\")\n",
    "elif BMI < 30:\n",
    "    print(f\"Your BMI is {BMI}, you are slightly overweight\")\n",
    "elif BMI < 35:\n",
    "    print(f\"Your BMI is {BMI}, you are obese\")\n",
    "else: \n",
    "    print(f\"Your BMI is {BMI}, you are clinically obese\")\n"
   ]
  },
  {
   "cell_type": "code",
   "execution_count": null,
   "id": "96f2cf2f",
   "metadata": {},
   "outputs": [],
   "source": [
    "# Leap Year\n",
    "# Nested If/else statement \n",
    "\n",
    "year = int(input(\"Enter the year you want to check\"))\n",
    "\n",
    "if year%4 == 0:\n",
    "    if year%100 ==0:   \n",
    "        if year%400 == 0:\n",
    "            print(\"Its a leap year\")\n",
    "        else:\n",
    "            print(\"Its not a leap Year\")\n",
    "    else:\n",
    "        print(\"Its a leap year\")\n",
    "else:\n",
    "    print(\"Its not a leap year\")"
   ]
  },
  {
   "cell_type": "code",
   "execution_count": 7,
   "id": "a5fc69cf",
   "metadata": {},
   "outputs": [
    {
     "name": "stdout",
     "output_type": "stream",
     "text": [
      "What is your height(in cm)\n",
      "134\n",
      "what is your age16\n",
      "Youth ticket are $7\n",
      "Do you want a photo, press Y or NN\n",
      "You total bill is $7\n"
     ]
    }
   ],
   "source": [
    "#Roller Coster Ticketing system\n",
    "# Multiple If/else statement\n",
    "\n",
    "height  = int(input('What is your height(in cm)\\n'))\n",
    "bill = 0\n",
    "\n",
    "if height >= 120:\n",
    "    age = int(input(\"what is your age\"))\n",
    "    if age < 12:\n",
    "        bill = 5;\n",
    "        print(\"Child ticket is $5\")\n",
    "    elif age <=18:\n",
    "        bill = 7;\n",
    "        print(\"Youth ticket are $7\")\n",
    "    else:\n",
    "        bill = 12\n",
    "        print(\"Adult tickets are $12\")\n",
    "        \n",
    "    photo = input(\"Do you want a photo, press Y or N\")\n",
    "    if photo == 'Y':\n",
    "        bill += 3;\n",
    "    print(f\"You total bill is ${bill}\")\n",
    "else:\n",
    "    print(\"Sorry, you have to grow taller\")\n",
    "        "
   ]
  },
  {
   "cell_type": "code",
   "execution_count": null,
   "id": "74d690d1",
   "metadata": {},
   "outputs": [],
   "source": []
  }
 ],
 "metadata": {
  "kernelspec": {
   "display_name": "Python 3 (ipykernel)",
   "language": "python",
   "name": "python3"
  },
  "language_info": {
   "codemirror_mode": {
    "name": "ipython",
    "version": 3
   },
   "file_extension": ".py",
   "mimetype": "text/x-python",
   "name": "python",
   "nbconvert_exporter": "python",
   "pygments_lexer": "ipython3",
   "version": "3.9.7"
  }
 },
 "nbformat": 4,
 "nbformat_minor": 5
}
