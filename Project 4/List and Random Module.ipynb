{
 "cells": [
  {
   "cell_type": "markdown",
   "id": "0f7d159c",
   "metadata": {},
   "source": [
    "# Random Module"
   ]
  },
  {
   "cell_type": "code",
   "execution_count": 27,
   "id": "b551f543",
   "metadata": {},
   "outputs": [],
   "source": [
    "import random"
   ]
  },
  {
   "cell_type": "code",
   "execution_count": 48,
   "id": "ab562e4b",
   "metadata": {},
   "outputs": [
    {
     "data": {
      "text/plain": [
       "10"
      ]
     },
     "execution_count": 48,
     "metadata": {},
     "output_type": "execute_result"
    }
   ],
   "source": [
    "# Random Whole Number\n",
    "r = random.randint(1,10)\n",
    "r"
   ]
  },
  {
   "cell_type": "code",
   "execution_count": 222,
   "id": "c5fda8a4",
   "metadata": {},
   "outputs": [
    {
     "data": {
      "text/plain": [
       "4.583865071201746"
      ]
     },
     "execution_count": 222,
     "metadata": {},
     "output_type": "execute_result"
    }
   ],
   "source": [
    "# Random Flaoting Number \n",
    "r_float = random.random()\n",
    "r_float*5 # if we want a random number between 0 and 5"
   ]
  },
  {
   "cell_type": "code",
   "execution_count": 102,
   "id": "2c8dec5d",
   "metadata": {},
   "outputs": [
    {
     "name": "stdout",
     "output_type": "stream",
     "text": [
      "Tails\n"
     ]
    }
   ],
   "source": [
    "# Heads or Tails\n",
    "\n",
    "toss = random.randint(0,1)\n",
    "\n",
    "if toss == 0:\n",
    "    print(\"Tails\")\n",
    "else:\n",
    "    print(\"Heads\")\n",
    "    "
   ]
  },
  {
   "cell_type": "markdown",
   "id": "c6a29d64",
   "metadata": {},
   "source": [
    "# List\n",
    "\n",
    "Form of Data Structure\n",
    "\n",
    "https://docs.python.org/3/tutorial/datastructures.html\n"
   ]
  },
  {
   "cell_type": "code",
   "execution_count": 196,
   "id": "ad9743ae",
   "metadata": {},
   "outputs": [
    {
     "data": {
      "text/plain": [
       "['California',\n",
       " 'Gerogia',\n",
       " 'Arizona',\n",
       " 'Hawaii',\n",
       " 'New Jersey',\n",
       " 'Texas',\n",
       " 'New Mexico',\n",
       " 'Utah']"
      ]
     },
     "execution_count": 196,
     "metadata": {},
     "output_type": "execute_result"
    }
   ],
   "source": [
    "State = [\"California\",\"Gerogia\",\"Arizona\",\"Hawaii\",\"New Jersey\"]\n",
    "# Add the data\n",
    "State.append(\"Texas\")\n",
    "a = [\"New Mexico\",\"Utah\"]\n",
    "#Add 2 lists\n",
    "State.extend(a)\n",
    "State"
   ]
  },
  {
   "cell_type": "code",
   "execution_count": 195,
   "id": "dcc5d983",
   "metadata": {},
   "outputs": [
    {
     "name": "stdout",
     "output_type": "stream",
     "text": [
      "California\n",
      "Arizona\n",
      "Utah\n",
      "1\n",
      "8\n",
      "Utah\n",
      "<class 'list'>\n"
     ]
    }
   ],
   "source": [
    "print(State[0])\n",
    "print(State[2])\n",
    "print(State[-1])\n",
    "print(State.count(\"Utah\"))\n",
    "print(len(State))\n",
    "n = len(State)\n",
    "print(State[n-1])\n",
    "print(type(State))"
   ]
  },
  {
   "cell_type": "code",
   "execution_count": 177,
   "id": "03c37b8d",
   "metadata": {},
   "outputs": [
    {
     "name": "stdout",
     "output_type": "stream",
     "text": [
      "Chetan will pay the bill\n"
     ]
    }
   ],
   "source": [
    "# List of names\n",
    "names = [\"Alex\", \"Olive\", \"Tia\", \"Chetan\"]\n",
    "#Count the number of people\n",
    "count = len(names)\n",
    "#Randomly pick the person\n",
    "random_pick = random.randint(0,count-1)\n",
    "\n",
    "print(f\"{names[random_pick]} will pay the bill\")"
   ]
  },
  {
   "cell_type": "markdown",
   "id": "231744c4",
   "metadata": {},
   "source": [
    "## Nested List"
   ]
  },
  {
   "cell_type": "code",
   "execution_count": 197,
   "id": "905d05ea",
   "metadata": {},
   "outputs": [],
   "source": [
    "a = [1,2,3,4,5,6]\n",
    "b = [7,8,9]"
   ]
  },
  {
   "cell_type": "code",
   "execution_count": 200,
   "id": "0effebf2",
   "metadata": {},
   "outputs": [],
   "source": [
    "c = [a,b]"
   ]
  },
  {
   "cell_type": "code",
   "execution_count": 201,
   "id": "c100771e",
   "metadata": {},
   "outputs": [
    {
     "data": {
      "text/plain": [
       "[[1, 2, 3, 4, 5, 6], [7, 8, 9]]"
      ]
     },
     "execution_count": 201,
     "metadata": {},
     "output_type": "execute_result"
    }
   ],
   "source": [
    "c"
   ]
  },
  {
   "cell_type": "code",
   "execution_count": 221,
   "id": "cd3dc247",
   "metadata": {},
   "outputs": [
    {
     "name": "stdout",
     "output_type": "stream",
     "text": [
      "B3\n",
      "['⬜️', '️⬜️', '️⬜️']\n",
      "['⬜️', '⬜️', '️⬜️']\n",
      "['⬜️️', 'X', '⬜️️']\n"
     ]
    }
   ],
   "source": [
    "#Treasure Map - We are going to write a program that will mark a spot on a map with an X.\n",
    "\n",
    "line1 = [\"⬜️\",\"️⬜️\",\"️⬜️\"]\n",
    "line2 = [\"⬜️\",\"⬜️\",\"️⬜️\"]\n",
    "line3 = [\"⬜️️\",\"⬜️️\",\"⬜️️\"]\n",
    "map = [line1, line2, line3]\n",
    "\n",
    "position = input()\n",
    "letter = position[0].lower()\n",
    "abc = ['a','b','c']\n",
    "letter_index = abc.index(letter)\n",
    "number_index = int(position[1])-1\n",
    "number_index\n",
    "map[number_index][letter_index] = 'X'\n",
    "\n",
    "\n",
    "print(f\"{line1}\\n{line2}\\n{line3}\")"
   ]
  }
 ],
 "metadata": {
  "kernelspec": {
   "display_name": "Python 3 (ipykernel)",
   "language": "python",
   "name": "python3"
  },
  "language_info": {
   "codemirror_mode": {
    "name": "ipython",
    "version": 3
   },
   "file_extension": ".py",
   "mimetype": "text/x-python",
   "name": "python",
   "nbconvert_exporter": "python",
   "pygments_lexer": "ipython3",
   "version": "3.9.7"
  }
 },
 "nbformat": 4,
 "nbformat_minor": 5
}
