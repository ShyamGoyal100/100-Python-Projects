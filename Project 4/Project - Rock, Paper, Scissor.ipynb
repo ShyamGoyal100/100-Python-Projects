{
 "cells": [
  {
   "cell_type": "code",
   "execution_count": null,
   "id": "905913f9",
   "metadata": {},
   "outputs": [],
   "source": [
    "# Rock Paper Scissor"
   ]
  },
  {
   "cell_type": "code",
   "execution_count": 27,
   "id": "c63e9184",
   "metadata": {},
   "outputs": [],
   "source": [
    "import random"
   ]
  },
  {
   "cell_type": "code",
   "execution_count": 84,
   "id": "06559d2a",
   "metadata": {},
   "outputs": [
    {
     "name": "stdout",
     "output_type": "stream",
     "text": [
      "Welcome to the Rock, Paper, Scissor game\n",
      "What do you choose: type 0 for Rock, 1 for Paper and 2 for Scissor\n",
      "1\n",
      "\n",
      "    _______\n",
      "---'   ____)____\n",
      "          ______)\n",
      "          _______)\n",
      "         _______)\n",
      "---.__________)\n",
      "\n",
      "Computer chose 0\n",
      "\n",
      "    _______\n",
      "---'   ____)\n",
      "      (_____)\n",
      "      (_____)\n",
      "      (____)\n",
      "---.__(___)\n",
      "\n",
      "User Wins\n"
     ]
    }
   ],
   "source": [
    "print(\"Welcome to the Rock, Paper, Scissor game\")\n",
    "\n",
    "rock = '''\n",
    "    _______\n",
    "---'   ____)\n",
    "      (_____)\n",
    "      (_____)\n",
    "      (____)\n",
    "---.__(___)\n",
    "'''\n",
    "\n",
    "paper = '''\n",
    "    _______\n",
    "---'   ____)____\n",
    "          ______)\n",
    "          _______)\n",
    "         _______)\n",
    "---.__________)\n",
    "'''\n",
    "\n",
    "scissors = '''\n",
    "    _______\n",
    "---'   ____)____\n",
    "          ______)\n",
    "       __________)\n",
    "      (____)\n",
    "---.__(___)\n",
    "'''\n",
    "\n",
    "game_image = [rock, paper, scissors]\n",
    "\n",
    "user_input = int(input(\"What do you choose: type 0 for Rock, 1 for Paper and 2 for Scissor\\n\"))\n",
    "\n",
    "if user_input >= 3 or user_input < 0:\n",
    "    print(\"Please enter an invalid number \")\n",
    "else:\n",
    "    print(game_image[user_input])\n",
    "\n",
    "    computer_input = random.randint(0,2)\n",
    "    print(f\"Computer chose {computer_input}\")\n",
    "    print(game_image[computer_input])\n",
    "\n",
    "    if user_input == 0 and computer_input == 2:\n",
    "        print(\"User Wins\")\n",
    "    elif user_input == 2 and computer_input == 0:\n",
    "        print(\"computer Wins\")\n",
    "    elif computer_input > user_input:\n",
    "        print(\"Computer Wins\")\n",
    "    elif user_input > computer_input:\n",
    "        print(\"User Wins\")\n",
    "    elif computer_input == user_input:\n",
    "        print(\"Its a draw\")\n",
    "    elif user_input >= 3 or user_input < 0:\n",
    "        print(\"Please enter the valid number \")"
   ]
  },
  {
   "cell_type": "code",
   "execution_count": null,
   "id": "1720e6ee",
   "metadata": {},
   "outputs": [],
   "source": []
  },
  {
   "cell_type": "code",
   "execution_count": null,
   "id": "e6a801c3",
   "metadata": {},
   "outputs": [],
   "source": []
  }
 ],
 "metadata": {
  "kernelspec": {
   "display_name": "Python 3 (ipykernel)",
   "language": "python",
   "name": "python3"
  },
  "language_info": {
   "codemirror_mode": {
    "name": "ipython",
    "version": 3
   },
   "file_extension": ".py",
   "mimetype": "text/x-python",
   "name": "python",
   "nbconvert_exporter": "python",
   "pygments_lexer": "ipython3",
   "version": "3.9.7"
  }
 },
 "nbformat": 4,
 "nbformat_minor": 5
}
