{
 "cells": [
  {
   "cell_type": "markdown",
   "id": "00e0fbef",
   "metadata": {},
   "source": [
    "# For loop"
   ]
  },
  {
   "cell_type": "code",
   "execution_count": 2,
   "id": "56a56de4",
   "metadata": {},
   "outputs": [],
   "source": [
    "State = [\"California\",\"Gerogia\",\"Arizona\",\"Hawaii\",\"New Jersey\"]"
   ]
  },
  {
   "cell_type": "code",
   "execution_count": 57,
   "id": "57adb799",
   "metadata": {},
   "outputs": [
    {
     "name": "stdout",
     "output_type": "stream",
     "text": [
      "California\n",
      "Gerogia\n",
      "Arizona\n",
      "Hawaii\n",
      "New Jersey\n",
      "5\n"
     ]
    }
   ],
   "source": [
    "s = [1,2,3,4,5]\n",
    "count = 0\n",
    "for a in State:\n",
    "    print(a)\n",
    "    count+=1\n",
    "print(count)"
   ]
  },
  {
   "cell_type": "code",
   "execution_count": 83,
   "id": "82f17e2e",
   "metadata": {},
   "outputs": [
    {
     "name": "stdout",
     "output_type": "stream",
     "text": [
      "1,2,3,4,5\n",
      "total hight is 15\n",
      "Total students are 5\n",
      "Average height is 3.0\n"
     ]
    }
   ],
   "source": [
    "#Average height of the student\n",
    "\n",
    "student_height = input().split(\",\")\n",
    "\n",
    "for n in range(0, len(student_height)):\n",
    "    student_height[n] = int(student_height[n])\n",
    "\n",
    "\n",
    "total_height = 0\n",
    "for height in student_height:\n",
    "    total_height += height\n",
    "print(f\"total hight is {total_height}\")    \n",
    "\n",
    "total_student = 0\n",
    "for student in student_height:\n",
    "    total_student += 1;\n",
    "print(f\"Total students are {total_student}\")\n",
    "\n",
    "Average_height = total_height/total_student\n",
    "print(f\"Average height is {Average_height}\")"
   ]
  },
  {
   "cell_type": "code",
   "execution_count": 110,
   "id": "47ac7980",
   "metadata": {},
   "outputs": [
    {
     "name": "stdout",
     "output_type": "stream",
     "text": [
      "1 2 3 4\n",
      "The highset score is 4\n"
     ]
    }
   ],
   "source": [
    "# Calculate the heighest score from all the scores\n",
    "student_scores = input().split()\n",
    "\n",
    "for n in range(0, len(student_scores)):\n",
    "    student_scores[n] = int(student_scores[n])\n",
    "    \n",
    "highest_score = 0\n",
    "for score in student_scores:\n",
    "    if score > highest_score:\n",
    "        highest_score = score\n",
    "\n",
    "print(f\"The highset score is {highest_score}\")"
   ]
  },
  {
   "cell_type": "code",
   "execution_count": 127,
   "id": "4f74d00a",
   "metadata": {},
   "outputs": [
    {
     "name": "stdout",
     "output_type": "stream",
     "text": [
      "20\n",
      "110\n"
     ]
    }
   ],
   "source": [
    "target = int(input())\n",
    "a = 0\n",
    "for n in range(2, target+1,2):\n",
    "    a = a + n\n",
    "    \n",
    "print(a)\n",
    "    "
   ]
  },
  {
   "cell_type": "code",
   "execution_count": 144,
   "id": "307cd9d1",
   "metadata": {},
   "outputs": [
    {
     "name": "stdout",
     "output_type": "stream",
     "text": [
      "16\n",
      "1\n",
      "2\n",
      "Fizz\n",
      "4\n",
      "Buzz\n",
      "Fizz\n",
      "7\n",
      "8\n",
      "Fizz\n",
      "Buzz\n",
      "11\n",
      "Fizz\n",
      "13\n",
      "14\n",
      "FizzBizz\n",
      "16\n"
     ]
    }
   ],
   "source": [
    "#FizzBizz quiz \n",
    "\n",
    "number = int(input())\n",
    "\n",
    "for n in range(1, number+1):\n",
    "    if n%3 == 0 and n%5 == 0:\n",
    "        print(\"FizzBizz\")\n",
    "    elif n%3 == 0:\n",
    "        print(\"Fizz\")\n",
    "    elif n%5 ==0:\n",
    "        print(\"Buzz\")\n",
    "    else:\n",
    "        print(n)\n",
    "        "
   ]
  }
 ],
 "metadata": {
  "kernelspec": {
   "display_name": "Python 3 (ipykernel)",
   "language": "python",
   "name": "python3"
  },
  "language_info": {
   "codemirror_mode": {
    "name": "ipython",
    "version": 3
   },
   "file_extension": ".py",
   "mimetype": "text/x-python",
   "name": "python",
   "nbconvert_exporter": "python",
   "pygments_lexer": "ipython3",
   "version": "3.9.7"
  }
 },
 "nbformat": 4,
 "nbformat_minor": 5
}
