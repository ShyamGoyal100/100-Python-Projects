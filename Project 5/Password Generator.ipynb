{
 "cells": [
  {
   "cell_type": "code",
   "execution_count": 1,
   "id": "b3367022",
   "metadata": {},
   "outputs": [],
   "source": [
    "import random"
   ]
  },
  {
   "cell_type": "code",
   "execution_count": 5,
   "id": "04e2b59c",
   "metadata": {},
   "outputs": [
    {
     "name": "stdout",
     "output_type": "stream",
     "text": [
      "Welcome to the PyPassword generator\n",
      "How many letters would you like in your password\n",
      "4\n",
      "How many symbols would you like in your password\n",
      "3\n",
      "How many numbers would you like in your password\n",
      "2\n",
      "The final password is B2D$CC2#$(19\n"
     ]
    }
   ],
   "source": [
    "## PyPassword Generator\n",
    "print(\"Welcome to the PyPassword generator\")\n",
    "\n",
    "letter = ['A','B','C','D','E']\n",
    "Symbol = ['!','@','#','$','&','*','(',')']\n",
    "number = ['0','1','2','3','4','5','6','7','8','9']\n",
    "\n",
    "password = \"\"\n",
    "\n",
    "letters = int(input(\"How many letters would you like in your password\\n\"))\n",
    "symbols = int(input(\"How many symbols would you like in your password\\n\"))\n",
    "numbers = int(input(\"How many numbers would you like in your password\\n\"))\n",
    "\n",
    "# #Easy Way\n",
    "# for n in range(1,letters+1):\n",
    "#     password = password + random.choice(letter)\n",
    "    \n",
    "# for n in range(1,letters+1):\n",
    "#     password = password + random.choice(Symbol)\n",
    "    \n",
    "# for n in range(1,letters+1):\n",
    "#     password = password + random.choice(number)\n",
    "    \n",
    "# print(password)\n",
    "\n",
    "\n",
    "#Hard Way\n",
    "\n",
    "password_list = []\n",
    "\n",
    "for n in range(1,letters+1):\n",
    "    password_list.append(random.choice(letter))\n",
    "    \n",
    "for n in range(1,letters+1):\n",
    "    password_list.append(random.choice(Symbol))\n",
    "    \n",
    "for n in range(1,letters+1):\n",
    "    password_list.append(random.choice(number))\n",
    "    \n",
    "random.shuffle(password_list)\n",
    "#print(password_list)\n",
    "\n",
    "password = \"\"\n",
    "\n",
    "for char in password_list:\n",
    "    password += char\n",
    "    \n",
    "print(f\"The final password is {password}\")"
   ]
  }
 ],
 "metadata": {
  "kernelspec": {
   "display_name": "Python 3 (ipykernel)",
   "language": "python",
   "name": "python3"
  },
  "language_info": {
   "codemirror_mode": {
    "name": "ipython",
    "version": 3
   },
   "file_extension": ".py",
   "mimetype": "text/x-python",
   "name": "python",
   "nbconvert_exporter": "python",
   "pygments_lexer": "ipython3",
   "version": "3.9.7"
  }
 },
 "nbformat": 4,
 "nbformat_minor": 5
}
