{
 "cells": [
  {
   "cell_type": "code",
   "execution_count": 65,
   "id": "4a411abc",
   "metadata": {},
   "outputs": [],
   "source": [
    "alphabet = ['a', 'b', 'c', 'd', 'e', 'f', 'g', 'h', 'i', 'j', 'k', 'l', 'm', 'n', 'o', 'p', 'q', 'r', 's', \n",
    "             't', 'u', 'v', 'w', 'x', 'y', 'z','a', 'b', 'c', 'd', 'e', 'f', 'g', 'h', 'i', 'j', 'k', 'l', 'm', 'n', 'o', 'p', 'q', 'r', 's', \n",
    "             't', 'u', 'v', 'w', 'x', 'y', 'z']"
   ]
  },
  {
   "cell_type": "code",
   "execution_count": 43,
   "id": "69c8858c",
   "metadata": {},
   "outputs": [],
   "source": [
    "# Create the function called \"Encrypt\" that takes the \"text message\" and the \"shift\" as input :\n",
    "\n",
    "def encrypt(text_data, shift_count):\n",
    "    cipher_text = \"\"\n",
    "    for letter in text_data:\n",
    "        position = alphabet.index(letter)\n",
    "        new_position = position + shift_count\n",
    "        new_letter = alphabet[new_position]\n",
    "        cipher_text +=  new_letter\n",
    "    print(f\"The encrypted message is {cipher_text}\")\n",
    "            \n",
    "        \n",
    "def decrypt(ciper_text, shift_count):\n",
    "    plain_text = \"\"\n",
    "    for letter in ciper_text:\n",
    "        position = alphabet.index(letter)\n",
    "        new_position = position - shift_count\n",
    "        new_letter = alphabet[new_position]\n",
    "        plain_text +=  new_letter\n",
    "    print(f\"The encrypted message is {plain_text}\")\n",
    "            \n",
    "        "
   ]
  },
  {
   "cell_type": "code",
   "execution_count": 45,
   "id": "59c023ec",
   "metadata": {},
   "outputs": [
    {
     "name": "stdout",
     "output_type": "stream",
     "text": [
      "The encrypted message is dahhk\n"
     ]
    }
   ],
   "source": [
    "if direction == \"encode\":\n",
    "    encrypt(text_data = text, shift_count = shift)\n",
    "elif direction == \"decode\":\n",
    "    decrypt(ciper_text = text, shift_count = shift)\n"
   ]
  },
  {
   "cell_type": "code",
   "execution_count": null,
   "id": "c468ee3f",
   "metadata": {},
   "outputs": [],
   "source": [
    "#OR"
   ]
  },
  {
   "cell_type": "code",
   "execution_count": 53,
   "id": "0e39fc7e",
   "metadata": {},
   "outputs": [
    {
     "name": "stdout",
     "output_type": "stream",
     "text": [
      "Type 'Encode' to encrypt or 'Decode' to Decrypr the message\n",
      "decode\n",
      "Type your message\n",
      "hello\n",
      "Type the shift amount\n",
      "5\n",
      "The encrypted message is czggj\n"
     ]
    }
   ],
   "source": [
    "direction = input(\"Type 'Encode' to encrypt or 'Decode' to Decrypr the message\\n\")\n",
    "text = input(\"Type your message\\n\")\n",
    "shift = int(input(\"Type the shift amount\\n\"))\n",
    "\n",
    "def caeser(text_data, shift_count, direction):\n",
    "    if direction  == \"encode\":\n",
    "        cipher_text = \"\"\n",
    "        for letter in text_data:\n",
    "            position = alphabet.index(letter)\n",
    "            new_position = position + shift_count\n",
    "            new_letter = alphabet[new_position]\n",
    "            cipher_text +=  new_letter\n",
    "        print(f\"The encrypted message is {cipher_text}\")\n",
    "\n",
    "    elif direction == \"decode\":\n",
    "        plain_text = \"\"\n",
    "        for letter in text_data:\n",
    "            position = alphabet.index(letter)\n",
    "            new_position = position - shift_count\n",
    "            new_letter = alphabet[new_position]\n",
    "            plain_text +=  new_letter\n",
    "        print(f\"The encrypted message is {plain_text}\")\n",
    "\n",
    "caeser(text_data = text, shift_count = shift, direction = direction)"
   ]
  },
  {
   "cell_type": "code",
   "execution_count": null,
   "id": "8dde35ab",
   "metadata": {},
   "outputs": [],
   "source": [
    "#OR"
   ]
  },
  {
   "cell_type": "code",
   "execution_count": 91,
   "id": "1e51a75e",
   "metadata": {},
   "outputs": [],
   "source": [
    "\n",
    "def caeser1(text_data, shift_count, ciper_direction):\n",
    "    end_text = \"\"\n",
    "    if ciper_direction == 'Decode':\n",
    "            shift_count *= -1\n",
    "    for char in text_data:\n",
    "        if char in alphabet:\n",
    "            position = alphabet.index(char)\n",
    "            new_position = position + shift_count\n",
    "            end_text += alphabet[new_position]\n",
    "        else:\n",
    "            end_text += char\n",
    "    print(f\"the {ciper_direction} text is {end_text} \")"
   ]
  },
  {
   "cell_type": "code",
   "execution_count": 94,
   "id": "9504b81d",
   "metadata": {},
   "outputs": [
    {
     "name": "stdout",
     "output_type": "stream",
     "text": [
      "Type 'Encode' to encrypt or 'Decode' to Decrypr the message\n",
      "encode\n",
      "Type your message\n",
      "hello\n",
      "Type the shift amount\n",
      "5\n",
      "the encode text is mjqqt \n",
      "do u want to play again - Yes or No\n",
      "Yes\n",
      "Type 'Encode' to encrypt or 'Decode' to Decrypr the message\n",
      "Decode\n",
      "Type your message\n",
      "mjqqt\n",
      "Type the shift amount\n",
      "5\n",
      "the Decode text is hello \n",
      "do u want to play again - Yes or No\n",
      "No\n"
     ]
    }
   ],
   "source": [
    "should_continue = True\n",
    "while should_continue:\n",
    "    direction = input(\"Type 'Encode' to encrypt or 'Decode' to Decrypr the message\\n\")\n",
    "    text = input(\"Type your message\\n\")\n",
    "    shift = int(input(\"Type the shift amount\\n\"))\n",
    "\n",
    "    shift = shift%26\n",
    "    caeser1(text_data = text, shift_count = shift, ciper_direction  =direction)\n",
    "    replay = input(\"do u want to play again - Yes or No\\n\")\n",
    "    if replay == \"No\":\n",
    "        should_continue = False\n",
    "    "
   ]
  },
  {
   "cell_type": "code",
   "execution_count": null,
   "id": "3cb81eac",
   "metadata": {},
   "outputs": [],
   "source": []
  }
 ],
 "metadata": {
  "kernelspec": {
   "display_name": "Python 3 (ipykernel)",
   "language": "python",
   "name": "python3"
  },
  "language_info": {
   "codemirror_mode": {
    "name": "ipython",
    "version": 3
   },
   "file_extension": ".py",
   "mimetype": "text/x-python",
   "name": "python",
   "nbconvert_exporter": "python",
   "pygments_lexer": "ipython3",
   "version": "3.9.7"
  }
 },
 "nbformat": 4,
 "nbformat_minor": 5
}
