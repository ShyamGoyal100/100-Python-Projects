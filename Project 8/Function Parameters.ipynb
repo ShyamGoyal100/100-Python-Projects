{
 "cells": [
  {
   "cell_type": "markdown",
   "id": "59ca4a3e",
   "metadata": {},
   "source": [
    "# Function with Parameters"
   ]
  },
  {
   "cell_type": "code",
   "execution_count": 4,
   "id": "86e1e4d0",
   "metadata": {},
   "outputs": [
    {
     "name": "stdout",
     "output_type": "stream",
     "text": [
      "Hello Shyam\n"
     ]
    }
   ],
   "source": [
    "def greet(name):\n",
    "    print(f\"Hello {name}\")\n",
    "\n",
    "greet(\"Shyam\")"
   ]
  },
  {
   "cell_type": "code",
   "execution_count": 21,
   "id": "fe911b76",
   "metadata": {},
   "outputs": [
    {
     "name": "stdout",
     "output_type": "stream",
     "text": [
      "nameShyam\n",
      "Hello Shyam\n"
     ]
    }
   ],
   "source": [
    "name = input(\"name\")\n",
    "greet(name)"
   ]
  },
  {
   "cell_type": "code",
   "execution_count": 26,
   "id": "033694d5",
   "metadata": {},
   "outputs": [],
   "source": [
    "#Function with more than 1 input\n",
    "# Positioning Argument - Place is not defined\n",
    "def greet_name(name , location):\n",
    "    print(f\"Hello {name}\")\n",
    "    print((f\"What is it like in {location}\"))\n"
   ]
  },
  {
   "cell_type": "code",
   "execution_count": 27,
   "id": "ed85b381",
   "metadata": {},
   "outputs": [
    {
     "name": "stdout",
     "output_type": "stream",
     "text": [
      "Hello Shyam\n",
      "What is it like in Germany\n"
     ]
    }
   ],
   "source": [
    "greet_name(\"Shyam\",\"Germany\")"
   ]
  },
  {
   "cell_type": "code",
   "execution_count": 30,
   "id": "dc23132a",
   "metadata": {},
   "outputs": [
    {
     "name": "stdout",
     "output_type": "stream",
     "text": [
      "Hello Shyam\n",
      "What is it like in delhi\n"
     ]
    }
   ],
   "source": [
    "#Keyword argument\n",
    "\n",
    "greet_name( location = \"delhi\", name = \"Shyam\")"
   ]
  },
  {
   "cell_type": "code",
   "execution_count": 60,
   "id": "86eca95a",
   "metadata": {},
   "outputs": [],
   "source": [
    "import math"
   ]
  },
  {
   "cell_type": "code",
   "execution_count": 66,
   "id": "dd115ec1",
   "metadata": {},
   "outputs": [],
   "source": [
    "# Exercise 1\n",
    "# Paint_calculator\n",
    "\n",
    "# test_h = int(input()) # Height of the wall\n",
    "# test_w = int(input()) # Weidth of the wall \n",
    "\n",
    "def paint_cal(height, width , cover):\n",
    "    #coverage = 5\n",
    "    c = math.ceil((test_h*test_w)/coverage)\n",
    "    print(f\"You will need {c} cans of paint\")\n",
    "    #return c\n"
   ]
  },
  {
   "cell_type": "code",
   "execution_count": 67,
   "id": "458011ad",
   "metadata": {},
   "outputs": [
    {
     "name": "stdout",
     "output_type": "stream",
     "text": [
      "1\n",
      "1\n",
      "You will need 1 cans of paint\n"
     ]
    }
   ],
   "source": [
    "\n",
    "test_h = int(input()) # Height of the wall\n",
    "test_w = int(input()) # Weidth of the wall \n",
    "coverage = 2\n",
    "paint_cal(height = test_h, width = test_w, cover = coverage)"
   ]
  },
  {
   "cell_type": "code",
   "execution_count": 81,
   "id": "3032870b",
   "metadata": {},
   "outputs": [],
   "source": [
    "# Exercise 2\n",
    "# Check if the input is a prime number\n",
    "\n",
    "def prime_check(number):\n",
    "    is_prime = True\n",
    "    for i in range(2,number):\n",
    "        if number % i == 0:\n",
    "            is_prime = False\n",
    "            \n",
    "    if is_prime == True:\n",
    "        print(\"Its a prime number\")\n",
    "    else:\n",
    "        print(\"Its not a prime number\")"
   ]
  },
  {
   "cell_type": "code",
   "execution_count": 91,
   "id": "66a86480",
   "metadata": {},
   "outputs": [
    {
     "name": "stdout",
     "output_type": "stream",
     "text": [
      "Its a prime number\n"
     ]
    }
   ],
   "source": [
    "prime_check(number = 11)"
   ]
  },
  {
   "cell_type": "code",
   "execution_count": null,
   "id": "c8dbd091",
   "metadata": {},
   "outputs": [],
   "source": []
  },
  {
   "cell_type": "code",
   "execution_count": null,
   "id": "f43a8571",
   "metadata": {},
   "outputs": [],
   "source": []
  },
  {
   "cell_type": "code",
   "execution_count": null,
   "id": "c1b1a7a9",
   "metadata": {},
   "outputs": [],
   "source": []
  },
  {
   "cell_type": "code",
   "execution_count": null,
   "id": "71c983e4",
   "metadata": {},
   "outputs": [],
   "source": []
  },
  {
   "cell_type": "code",
   "execution_count": null,
   "id": "c507c88f",
   "metadata": {},
   "outputs": [],
   "source": []
  }
 ],
 "metadata": {
  "kernelspec": {
   "display_name": "Python 3 (ipykernel)",
   "language": "python",
   "name": "python3"
  },
  "language_info": {
   "codemirror_mode": {
    "name": "ipython",
    "version": 3
   },
   "file_extension": ".py",
   "mimetype": "text/x-python",
   "name": "python",
   "nbconvert_exporter": "python",
   "pygments_lexer": "ipython3",
   "version": "3.9.7"
  }
 },
 "nbformat": 4,
 "nbformat_minor": 5
}
