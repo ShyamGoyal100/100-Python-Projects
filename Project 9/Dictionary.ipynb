{
 "cells": [
  {
   "cell_type": "code",
   "execution_count": 57,
   "id": "b8f0abb9",
   "metadata": {},
   "outputs": [],
   "source": [
    "data = {\n",
    "    'Name':\"Shyam\",\n",
    "    \"Course\":\"Python\"\n",
    "}"
   ]
  },
  {
   "cell_type": "code",
   "execution_count": 58,
   "id": "6ec16dc0",
   "metadata": {},
   "outputs": [
    {
     "name": "stdout",
     "output_type": "stream",
     "text": [
      "Shyam\n"
     ]
    }
   ],
   "source": [
    "# retriving from dictionary\n",
    "print(data[\"Name\"])"
   ]
  },
  {
   "cell_type": "code",
   "execution_count": 59,
   "id": "78952ae3",
   "metadata": {},
   "outputs": [
    {
     "name": "stdout",
     "output_type": "stream",
     "text": [
      "{'Name': 'Shyam', 'Course': 'Python', 'Age': 29}\n"
     ]
    }
   ],
   "source": [
    "# Adding new items to Dictionary\n",
    "data[\"Age\"] = 29\n",
    "print(data)"
   ]
  },
  {
   "cell_type": "code",
   "execution_count": 60,
   "id": "9c81ce0b",
   "metadata": {},
   "outputs": [],
   "source": [
    "# Create an empty dictionat\n",
    "empty_dic = {}"
   ]
  },
  {
   "cell_type": "code",
   "execution_count": 61,
   "id": "ac33feb6",
   "metadata": {},
   "outputs": [],
   "source": [
    "# Wipe off the dictioany with previous data\n",
    "# data = {}\n",
    "# data"
   ]
  },
  {
   "cell_type": "code",
   "execution_count": 62,
   "id": "fcca69f0",
   "metadata": {},
   "outputs": [
    {
     "data": {
      "text/plain": [
       "{'Name': 'Rohit', 'Course': 'Python', 'Age': 29}"
      ]
     },
     "execution_count": 62,
     "metadata": {},
     "output_type": "execute_result"
    }
   ],
   "source": [
    "# Edit the dictionary\n",
    "data[\"Name\"] = \"Rohit\"\n",
    "data"
   ]
  },
  {
   "cell_type": "code",
   "execution_count": 74,
   "id": "c952c3ca",
   "metadata": {},
   "outputs": [
    {
     "name": "stdout",
     "output_type": "stream",
     "text": [
      "Name\n",
      "Rohit\n",
      "Course\n",
      "Python\n",
      "Age\n",
      "29\n"
     ]
    }
   ],
   "source": [
    "# Loop through the dictionary\n",
    "for key in data:\n",
    "    print(key)\n",
    "    print(data[key])"
   ]
  },
  {
   "cell_type": "code",
   "execution_count": 106,
   "id": "3e247c56",
   "metadata": {},
   "outputs": [],
   "source": [
    "# Exercise\n",
    "student_score = {\n",
    "    \"Harry\": 81,\n",
    "    \"Ron\": 78,\n",
    "    \"Hermione\": 99,\n",
    "    \"Draco\": 74,\n",
    "    \"Neville\": 62\n",
    "}"
   ]
  },
  {
   "cell_type": "code",
   "execution_count": 107,
   "id": "88b46e95",
   "metadata": {},
   "outputs": [
    {
     "name": "stdout",
     "output_type": "stream",
     "text": [
      "{'Harry': 'Exceeds Expetations', 'Ron': 'Acceptable', 'Hermione': 'Outsatanding', 'Draco': 'Acceptable', 'Neville': 'Fail'}\n"
     ]
    }
   ],
   "source": [
    "student_grade = {}\n",
    "\n",
    "for student in student_score:\n",
    "    score = student_score[student]\n",
    "    if score >90:\n",
    "        student_grade[student] = \"Outsatanding\"\n",
    "    elif score > 80:\n",
    "        student_grade[student] = \"Exceeds Expetations\"\n",
    "    elif score >70:\n",
    "        student_grade[student] = \"Acceptable\"\n",
    "    else :\n",
    "        student_grade[student] = \"Fail\"\n",
    "\n",
    "print(student_grade)"
   ]
  },
  {
   "cell_type": "code",
   "execution_count": null,
   "id": "0588fce6",
   "metadata": {},
   "outputs": [],
   "source": []
  }
 ],
 "metadata": {
  "kernelspec": {
   "display_name": "Python 3 (ipykernel)",
   "language": "python",
   "name": "python3"
  },
  "language_info": {
   "codemirror_mode": {
    "name": "ipython",
    "version": 3
   },
   "file_extension": ".py",
   "mimetype": "text/x-python",
   "name": "python",
   "nbconvert_exporter": "python",
   "pygments_lexer": "ipython3",
   "version": "3.9.7"
  }
 },
 "nbformat": 4,
 "nbformat_minor": 5
}
