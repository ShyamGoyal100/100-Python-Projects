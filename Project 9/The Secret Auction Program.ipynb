{
 "cells": [
  {
   "cell_type": "markdown",
   "id": "21db0bff",
   "metadata": {},
   "source": [
    "# The Secret Auction Program"
   ]
  },
  {
   "cell_type": "code",
   "execution_count": 13,
   "id": "dcd71876",
   "metadata": {},
   "outputs": [
    {
     "name": "stdout",
     "output_type": "stream",
     "text": [
      "What is your nameAlex\n",
      "What is your bid? $2000\n",
      "Are there any other bidders? Type 'Yes' or 'No'Yes\n",
      "What is your nameSammi\n",
      "What is your bid? $450\n",
      "Are there any other bidders? Type 'Yes' or 'No'Yes\n",
      "What is your nameSarah\n",
      "What is your bid? $600\n",
      "Are there any other bidders? Type 'Yes' or 'No'No\n",
      "The winner is Alex, with a bid of $2000\n"
     ]
    }
   ],
   "source": [
    "bid = {}\n",
    "\n",
    "\n",
    "def highest_bidder(bidding):\n",
    "    highest_bid = 0\n",
    "    bidder = \"\"\n",
    "    for bidder in bidding:\n",
    "        amount = bidding[bidder]\n",
    "        if amount > highest_bid:\n",
    "            highest_bid = amount\n",
    "            winner = bidder\n",
    "    print(f\"The winner is {winner}, with a bid of ${highest_bid}\")\n",
    "            \n",
    "\n",
    "\n",
    "bidding_finished = False\n",
    "while not bidding_finished:\n",
    "    \n",
    "    name = input(\"What is your name\")\n",
    "    price = int(input(\"What is your bid? $\"))\n",
    "    bid[name] = price\n",
    "    should_continue = input(\"Are there any other bidders? Type 'Yes' or 'No'\")\n",
    "    if should_continue == \"No\":\n",
    "        bidding_finished = True\n",
    "        highest_bidder(bid)\n",
    "#     elif should_continue == \"Yes\":\n",
    "#         clear()\n",
    "    \n",
    "#pythontutor.com\n",
    "    "
   ]
  },
  {
   "cell_type": "code",
   "execution_count": null,
   "id": "dbd626b8",
   "metadata": {},
   "outputs": [],
   "source": []
  },
  {
   "cell_type": "code",
   "execution_count": null,
   "id": "9ebbf9c4",
   "metadata": {},
   "outputs": [],
   "source": []
  },
  {
   "cell_type": "code",
   "execution_count": null,
   "id": "7149a7f2",
   "metadata": {},
   "outputs": [],
   "source": []
  }
 ],
 "metadata": {
  "kernelspec": {
   "display_name": "Python 3 (ipykernel)",
   "language": "python",
   "name": "python3"
  },
  "language_info": {
   "codemirror_mode": {
    "name": "ipython",
    "version": 3
   },
   "file_extension": ".py",
   "mimetype": "text/x-python",
   "name": "python",
   "nbconvert_exporter": "python",
   "pygments_lexer": "ipython3",
   "version": "3.9.7"
  }
 },
 "nbformat": 4,
 "nbformat_minor": 5
}
